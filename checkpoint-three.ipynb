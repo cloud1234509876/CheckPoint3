{
 "cells": [
  {
   "cell_type": "markdown",
   "metadata": {
    "azdata_cell_guid": "26037d32-2047-4157-81ef-595916bd66a0"
   },
   "source": [
    "# Checkpoint Three: Cleaning Data\n",
    "\n",
    "Now you are ready to clean your data. Before starting coding, provide the link to your dataset below.\n",
    "\n",
    "My dataset: Weekly CDC Pneumonia Cases from Kaggle:\n",
    "\n",
    "My dataset: https://www.kaggle.com/datasets/broach/weekly-cdc-pneumonia-cases\n",
    "\n",
    "Import the necessary libraries and create your dataframe(s)."
   ]
  },
  {
   "cell_type": "code",
   "execution_count": 1,
   "metadata": {
    "azdata_cell_guid": "e8adef8e-d0f2-4640-a179-5997f11e82ca"
   },
   "outputs": [],
   "source": [
    "import pandas as pd\n",
    "import numpy as np\n",
    "import seaborn as sb\n",
    "import matplotlib.pyplot as plt\n",
    "from matplotlib import style\n",
    "\n",
    "df = pd.read_csv(r\"C:\\Users\\16183\\Desktop\\LaunchCode\\Pneumonia Data Set (CDC).csv\") "
   ]
  },
  {
   "cell_type": "markdown",
   "metadata": {
    "azdata_cell_guid": "e172475a-c4ee-414a-8367-9965355dbba6"
   },
   "source": [
    "## Missing Data\n",
    "\n",
    "Test your dataset for missing data and handle it as needed. Make notes in the form of code comments as to your thought process."
   ]
  },
  {
   "cell_type": "code",
   "execution_count": 2,
   "metadata": {
    "azdata_cell_guid": "e1dc66ef-e471-4c27-92e7-ee878c106eba"
   },
   "outputs": [
    {
     "data": {
      "text/html": [
       "<div>\n",
       "<style scoped>\n",
       "    .dataframe tbody tr th:only-of-type {\n",
       "        vertical-align: middle;\n",
       "    }\n",
       "\n",
       "    .dataframe tbody tr th {\n",
       "        vertical-align: top;\n",
       "    }\n",
       "\n",
       "    .dataframe thead th {\n",
       "        text-align: right;\n",
       "    }\n",
       "</style>\n",
       "<table border=\"1\" class=\"dataframe\">\n",
       "  <thead>\n",
       "    <tr style=\"text-align: right;\">\n",
       "      <th></th>\n",
       "      <th>Region</th>\n",
       "      <th>Count</th>\n",
       "      <th>ProbableCount</th>\n",
       "      <th>Week</th>\n",
       "      <th>Year</th>\n",
       "      <th>DateStr</th>\n",
       "    </tr>\n",
       "  </thead>\n",
       "  <tbody>\n",
       "    <tr>\n",
       "      <th>0</th>\n",
       "      <td>False</td>\n",
       "      <td>False</td>\n",
       "      <td>False</td>\n",
       "      <td>False</td>\n",
       "      <td>False</td>\n",
       "      <td>False</td>\n",
       "    </tr>\n",
       "    <tr>\n",
       "      <th>1</th>\n",
       "      <td>False</td>\n",
       "      <td>False</td>\n",
       "      <td>False</td>\n",
       "      <td>False</td>\n",
       "      <td>False</td>\n",
       "      <td>False</td>\n",
       "    </tr>\n",
       "    <tr>\n",
       "      <th>2</th>\n",
       "      <td>False</td>\n",
       "      <td>False</td>\n",
       "      <td>False</td>\n",
       "      <td>False</td>\n",
       "      <td>False</td>\n",
       "      <td>False</td>\n",
       "    </tr>\n",
       "    <tr>\n",
       "      <th>3</th>\n",
       "      <td>False</td>\n",
       "      <td>False</td>\n",
       "      <td>False</td>\n",
       "      <td>False</td>\n",
       "      <td>False</td>\n",
       "      <td>False</td>\n",
       "    </tr>\n",
       "    <tr>\n",
       "      <th>4</th>\n",
       "      <td>False</td>\n",
       "      <td>False</td>\n",
       "      <td>False</td>\n",
       "      <td>False</td>\n",
       "      <td>False</td>\n",
       "      <td>False</td>\n",
       "    </tr>\n",
       "    <tr>\n",
       "      <th>...</th>\n",
       "      <td>...</td>\n",
       "      <td>...</td>\n",
       "      <td>...</td>\n",
       "      <td>...</td>\n",
       "      <td>...</td>\n",
       "      <td>...</td>\n",
       "    </tr>\n",
       "    <tr>\n",
       "      <th>39257</th>\n",
       "      <td>False</td>\n",
       "      <td>False</td>\n",
       "      <td>True</td>\n",
       "      <td>False</td>\n",
       "      <td>False</td>\n",
       "      <td>False</td>\n",
       "    </tr>\n",
       "    <tr>\n",
       "      <th>39258</th>\n",
       "      <td>False</td>\n",
       "      <td>False</td>\n",
       "      <td>True</td>\n",
       "      <td>False</td>\n",
       "      <td>False</td>\n",
       "      <td>False</td>\n",
       "    </tr>\n",
       "    <tr>\n",
       "      <th>39259</th>\n",
       "      <td>False</td>\n",
       "      <td>False</td>\n",
       "      <td>True</td>\n",
       "      <td>False</td>\n",
       "      <td>False</td>\n",
       "      <td>False</td>\n",
       "    </tr>\n",
       "    <tr>\n",
       "      <th>39260</th>\n",
       "      <td>False</td>\n",
       "      <td>False</td>\n",
       "      <td>True</td>\n",
       "      <td>False</td>\n",
       "      <td>False</td>\n",
       "      <td>False</td>\n",
       "    </tr>\n",
       "    <tr>\n",
       "      <th>39261</th>\n",
       "      <td>False</td>\n",
       "      <td>False</td>\n",
       "      <td>True</td>\n",
       "      <td>False</td>\n",
       "      <td>False</td>\n",
       "      <td>False</td>\n",
       "    </tr>\n",
       "  </tbody>\n",
       "</table>\n",
       "<p>39262 rows × 6 columns</p>\n",
       "</div>"
      ],
      "text/plain": [
       "       Region  Count  ProbableCount   Week   Year  DateStr\n",
       "0       False  False          False  False  False    False\n",
       "1       False  False          False  False  False    False\n",
       "2       False  False          False  False  False    False\n",
       "3       False  False          False  False  False    False\n",
       "4       False  False          False  False  False    False\n",
       "...       ...    ...            ...    ...    ...      ...\n",
       "39257   False  False           True  False  False    False\n",
       "39258   False  False           True  False  False    False\n",
       "39259   False  False           True  False  False    False\n",
       "39260   False  False           True  False  False    False\n",
       "39261   False  False           True  False  False    False\n",
       "\n",
       "[39262 rows x 6 columns]"
      ]
     },
     "execution_count": 2,
     "metadata": {},
     "output_type": "execute_result"
    }
   ],
   "source": [
    "df.isna()"
   ]
  },
  {
   "cell_type": "code",
   "execution_count": 4,
   "metadata": {},
   "outputs": [
    {
     "data": {
      "text/plain": [
       "<Axes: >"
      ]
     },
     "execution_count": 4,
     "metadata": {},
     "output_type": "execute_result"
    },
    {
     "data": {
      "image/png": "[encoded data removed]",
      "text/plain": [
       "<Figure size 640x480 with 2 Axes>"
      ]
     },
     "metadata": {},
     "output_type": "display_data"
    }
   ],
   "source": [
    "# Missing data heatmap\n",
    "sb.heatmap(df.isnull())"
   ]
  },
  {
   "cell_type": "code",
   "execution_count": 5,
   "metadata": {},
   "outputs": [
    {
     "name": "stdout",
     "output_type": "stream",
     "text": [
      "Region - 0%\n",
      "Count - 14%\n",
      "ProbableCount - 83%\n",
      "Week - 0%\n",
      "Year - 0%\n",
      "DateStr - 0%\n"
     ]
    }
   ],
   "source": [
    "# Null Rates by Column\n",
    "for col in df.columns:\n",
    "    pct_missing = np.mean(df[col].isnull())\n",
    "    print(f'{col} - {round(pct_missing*100)}%')"
   ]
  },
  {
   "cell_type": "code",
   "execution_count": 6,
   "metadata": {},
   "outputs": [
    {
     "data": {
      "text/html": [
       "<div>\n",
       "<style scoped>\n",
       "    .dataframe tbody tr th:only-of-type {\n",
       "        vertical-align: middle;\n",
       "    }\n",
       "\n",
       "    .dataframe tbody tr th {\n",
       "        vertical-align: top;\n",
       "    }\n",
       "\n",
       "    .dataframe thead th {\n",
       "        text-align: right;\n",
       "    }\n",
       "</style>\n",
       "<table border=\"1\" class=\"dataframe\">\n",
       "  <thead>\n",
       "    <tr style=\"text-align: right;\">\n",
       "      <th></th>\n",
       "      <th>Region</th>\n",
       "      <th>Count</th>\n",
       "      <th>Week</th>\n",
       "      <th>Year</th>\n",
       "      <th>DateStr</th>\n",
       "    </tr>\n",
       "  </thead>\n",
       "  <tbody>\n",
       "    <tr>\n",
       "      <th>0</th>\n",
       "      <td>U.S. Residents excluding U.S. Territories</td>\n",
       "      <td>40.0</td>\n",
       "      <td>1</td>\n",
       "      <td>2021</td>\n",
       "      <td>09-Jan-2021</td>\n",
       "    </tr>\n",
       "    <tr>\n",
       "      <th>1</th>\n",
       "      <td>New England</td>\n",
       "      <td>2.0</td>\n",
       "      <td>1</td>\n",
       "      <td>2021</td>\n",
       "      <td>09-Jan-2021</td>\n",
       "    </tr>\n",
       "    <tr>\n",
       "      <th>2</th>\n",
       "      <td>Connecticut</td>\n",
       "      <td>0.0</td>\n",
       "      <td>1</td>\n",
       "      <td>2021</td>\n",
       "      <td>09-Jan-2021</td>\n",
       "    </tr>\n",
       "    <tr>\n",
       "      <th>3</th>\n",
       "      <td>Maine</td>\n",
       "      <td>0.0</td>\n",
       "      <td>1</td>\n",
       "      <td>2021</td>\n",
       "      <td>09-Jan-2021</td>\n",
       "    </tr>\n",
       "    <tr>\n",
       "      <th>4</th>\n",
       "      <td>Massachusetts</td>\n",
       "      <td>0.0</td>\n",
       "      <td>1</td>\n",
       "      <td>2021</td>\n",
       "      <td>09-Jan-2021</td>\n",
       "    </tr>\n",
       "  </tbody>\n",
       "</table>\n",
       "</div>"
      ],
      "text/plain": [
       "                                      Region  Count  Week  Year      DateStr\n",
       "0  U.S. Residents excluding U.S. Territories   40.0     1  2021  09-Jan-2021\n",
       "1                                New England    2.0     1  2021  09-Jan-2021\n",
       "2                                Connecticut    0.0     1  2021  09-Jan-2021\n",
       "3                                      Maine    0.0     1  2021  09-Jan-2021\n",
       "4                              Massachusetts    0.0     1  2021  09-Jan-2021"
      ]
     },
     "execution_count": 6,
     "metadata": {},
     "output_type": "execute_result"
    }
   ],
   "source": [
    "#C: Drop Column probable count with highest percent of missing data\n",
    "df.drop('ProbableCount', axis=1, inplace = True)\n",
    "df.head()"
   ]
  },
  {
   "cell_type": "markdown",
   "metadata": {
    "azdata_cell_guid": "1233f543-e9a0-4f78-96f5-d7536554102e"
   },
   "source": [
    "## Irregular Data\n",
    "\n",
    "Detect outliers in your dataset and handle them as needed. Use code comments to make notes about your thought process."
   ]
  },
  {
   "cell_type": "code",
   "execution_count": 18,
   "metadata": {},
   "outputs": [
    {
     "data": {
      "text/plain": [
       "<seaborn.axisgrid.FacetGrid at 0x2a07cf5c2b0>"
      ]
     },
     "execution_count": 18,
     "metadata": {},
     "output_type": "execute_result"
    },
    {
     "data": {
      "image/png": "[encoded data removed]",
      "text/plain": [
       "<Figure size 1500x500 with 1 Axes>"
      ]
     },
     "metadata": {},
     "output_type": "display_data"
    }
   ],
   "source": [
    "#Histograms\n",
    "sb.displot(data=df, x='Count', height = 5, aspect = 3)"
   ]
  },
  {
   "cell_type": "code",
   "execution_count": 20,
   "metadata": {
    "azdata_cell_guid": "efed50ae-16f0-471d-98e2-632553a74c12"
   },
   "outputs": [
    {
     "data": {
      "text/plain": [
       "<Axes: >"
      ]
     },
     "execution_count": 20,
     "metadata": {},
     "output_type": "execute_result"
    },
    {
     "data": {
      "image/png": "[encoded data removed]",
      "text/plain": [
       "<Figure size 640x480 with 1 Axes>"
      ]
     },
     "metadata": {},
     "output_type": "display_data"
    }
   ],
   "source": [
    "# Boxplots\n",
    "df.boxplot(column=['Count'])"
   ]
  },
  {
   "cell_type": "code",
   "execution_count": 21,
   "metadata": {},
   "outputs": [
    {
     "data": {
      "text/html": [
       "<div>\n",
       "<style scoped>\n",
       "    .dataframe tbody tr th:only-of-type {\n",
       "        vertical-align: middle;\n",
       "    }\n",
       "\n",
       "    .dataframe tbody tr th {\n",
       "        vertical-align: top;\n",
       "    }\n",
       "\n",
       "    .dataframe thead th {\n",
       "        text-align: right;\n",
       "    }\n",
       "</style>\n",
       "<table border=\"1\" class=\"dataframe\">\n",
       "  <thead>\n",
       "    <tr style=\"text-align: right;\">\n",
       "      <th></th>\n",
       "      <th>Region</th>\n",
       "      <th>Count</th>\n",
       "      <th>Week</th>\n",
       "      <th>Year</th>\n",
       "      <th>DateStr</th>\n",
       "    </tr>\n",
       "  </thead>\n",
       "  <tbody>\n",
       "    <tr>\n",
       "      <th>8107</th>\n",
       "      <td>United States</td>\n",
       "      <td>350.0</td>\n",
       "      <td>4</td>\n",
       "      <td>2018</td>\n",
       "      <td>27-Jan-2018</td>\n",
       "    </tr>\n",
       "    <tr>\n",
       "      <th>38927</th>\n",
       "      <td>UNITED STATES</td>\n",
       "      <td>310.0</td>\n",
       "      <td>48</td>\n",
       "      <td>2010</td>\n",
       "      <td>04-Dec-2010</td>\n",
       "    </tr>\n",
       "    <tr>\n",
       "      <th>15812</th>\n",
       "      <td>UNITED STATES</td>\n",
       "      <td>305.0</td>\n",
       "      <td>15</td>\n",
       "      <td>2016</td>\n",
       "      <td>16-Apr-2016</td>\n",
       "    </tr>\n",
       "    <tr>\n",
       "      <th>5159</th>\n",
       "      <td>U.S. Residents excluding U.S. Territories</td>\n",
       "      <td>304.0</td>\n",
       "      <td>12</td>\n",
       "      <td>2019</td>\n",
       "      <td>23-Mar-2019</td>\n",
       "    </tr>\n",
       "    <tr>\n",
       "      <th>7705</th>\n",
       "      <td>U.S. Residents excluding U.S. Territories</td>\n",
       "      <td>294.0</td>\n",
       "      <td>50</td>\n",
       "      <td>2019</td>\n",
       "      <td>14-Dec-2019</td>\n",
       "    </tr>\n",
       "    <tr>\n",
       "      <th>8308</th>\n",
       "      <td>United States</td>\n",
       "      <td>286.0</td>\n",
       "      <td>7</td>\n",
       "      <td>2018</td>\n",
       "      <td>17-Feb-2018</td>\n",
       "    </tr>\n",
       "    <tr>\n",
       "      <th>18358</th>\n",
       "      <td>UNITED STATES</td>\n",
       "      <td>286.0</td>\n",
       "      <td>1</td>\n",
       "      <td>2015</td>\n",
       "      <td>10-Jan-2015</td>\n",
       "    </tr>\n",
       "    <tr>\n",
       "      <th>15343</th>\n",
       "      <td>UNITED STATES</td>\n",
       "      <td>284.0</td>\n",
       "      <td>8</td>\n",
       "      <td>2016</td>\n",
       "      <td>27-Feb-2016</td>\n",
       "    </tr>\n",
       "    <tr>\n",
       "      <th>14874</th>\n",
       "      <td>UNITED STATES</td>\n",
       "      <td>280.0</td>\n",
       "      <td>1</td>\n",
       "      <td>2016</td>\n",
       "      <td>09-Jan-2016</td>\n",
       "    </tr>\n",
       "    <tr>\n",
       "      <th>36381</th>\n",
       "      <td>UNITED STATES</td>\n",
       "      <td>277.0</td>\n",
       "      <td>10</td>\n",
       "      <td>2010</td>\n",
       "      <td>13-Mar-2010</td>\n",
       "    </tr>\n",
       "  </tbody>\n",
       "</table>\n",
       "</div>"
      ],
      "text/plain": [
       "                                          Region  Count  Week  Year  \\\n",
       "8107                               United States  350.0     4  2018   \n",
       "38927                              UNITED STATES  310.0    48  2010   \n",
       "15812                              UNITED STATES  305.0    15  2016   \n",
       "5159   U.S. Residents excluding U.S. Territories  304.0    12  2019   \n",
       "7705   U.S. Residents excluding U.S. Territories  294.0    50  2019   \n",
       "8308                               United States  286.0     7  2018   \n",
       "18358                              UNITED STATES  286.0     1  2015   \n",
       "15343                              UNITED STATES  284.0     8  2016   \n",
       "14874                              UNITED STATES  280.0     1  2016   \n",
       "36381                              UNITED STATES  277.0    10  2010   \n",
       "\n",
       "           DateStr  \n",
       "8107   27-Jan-2018  \n",
       "38927  04-Dec-2010  \n",
       "15812  16-Apr-2016  \n",
       "5159   23-Mar-2019  \n",
       "7705   14-Dec-2019  \n",
       "8308   17-Feb-2018  \n",
       "18358  10-Jan-2015  \n",
       "15343  27-Feb-2016  \n",
       "14874  09-Jan-2016  \n",
       "36381  13-Mar-2010  "
      ]
     },
     "execution_count": 21,
     "metadata": {},
     "output_type": "execute_result"
    }
   ],
   "source": [
    "# Drop Outlier Rows > 350 for Count\n",
    "indexNames = df[df['Count'] > 350].index\n",
    "df.drop(indexNames, inplace=True)\n",
    "df.nlargest(10, 'Count')"
   ]
  },
  {
   "cell_type": "markdown",
   "metadata": {
    "azdata_cell_guid": "6f5b8ee0-bab3-44bc-958a-67d1e4c0407f"
   },
   "source": [
    "## Unnecessary Data\n",
    "\n",
    "Look for the different types of unnecessary data in your dataset and address it as needed. Make sure to use code comments to illustrate your thought process."
   ]
  },
  {
   "cell_type": "code",
   "execution_count": null,
   "metadata": {},
   "outputs": [],
   "source": [
    "plt.bar(df['Region'], df['Count'])\n",
    "\n",
    "plt.title(\"Rates of Pneumonia by Region (State and Territory)\")\n",
    "\n",
    "# Setting the X and Y labels\n",
    "plt.xlabel('Region')\n",
    "plt.ylabel('Rates of Pneumonia')\n",
    "plt.show()"
   ]
  },
  {
   "cell_type": "code",
   "execution_count": null,
   "metadata": {},
   "outputs": [],
   "source": [
    "#this above chart returned so much data. I decided to do a little bit of cleaning since I am focusing only on Missouri to isolate the bottom info to MO only"
   ]
  },
  {
   "cell_type": "code",
   "execution_count": null,
   "metadata": {
    "azdata_cell_guid": "e788a239-2fbf-41de-9bd3-19e52e3b187c"
   },
   "outputs": [],
   "source": [
    "#checked the Region data from above and found that I needed to keep both 'Missouri' and 'Mo.'\n",
    "#drop all rows except where Region is equal to Missouri and Mo.\n",
    "df_MOupdated = df.query(\"Region == 'Missouri' | Region == 'Mo.'\")\n",
    "plt.bar(df_MOupdated['Region'], df_MOupdated['Count'])\n",
    "\n",
    "plt.title(\"Rates of Pneumonia in Missouri\")\n",
    "\n",
    "# Setting the X and Y labels\n",
    "plt.xlabel('Region')\n",
    "plt.ylabel('Rates of Pneumonia')\n",
    "plt.show()"
   ]
  },
  {
   "cell_type": "markdown",
   "metadata": {
    "azdata_cell_guid": "53e0cf94-c68a-4fa0-9849-9505a66bcce6"
   },
   "source": [
    "## Inconsistent Data\n",
    "\n",
    "Check for inconsistent data and address any that arises. As always, use code comments to illustrate your thought process."
   ]
  },
  {
   "cell_type": "code",
   "execution_count": 14,
   "metadata": {},
   "outputs": [
    {
     "data": {
      "text/plain": [
       "Ohio                                         586\n",
       "Hawaii                                       586\n",
       "Idaho                                        586\n",
       "Utah                                         586\n",
       "Alaska                                       586\n",
       "                                            ... \n",
       "East South Central                           170\n",
       "West Virginia                                170\n",
       "Massachusetts                                170\n",
       "U.S. Residents excluding U.S. Territories    118\n",
       "United States                                 52\n",
       "Name: Region, Length: 127, dtype: int64"
      ]
     },
     "execution_count": 14,
     "metadata": {},
     "output_type": "execute_result"
    }
   ],
   "source": [
    "df['Region'].value_counts()\n",
    "#too much data and inconsistent on measurements from some of the regions"
   ]
  },
  {
   "cell_type": "code",
   "execution_count": 13,
   "metadata": {
    "azdata_cell_guid": "e9de6624-812a-43f8-8e20-93b4a49b091f"
   },
   "outputs": [
    {
     "data": {
      "text/plain": [
       "Mo.         416\n",
       "Missouri    170\n",
       "Name: Region, dtype: int64"
      ]
     },
     "execution_count": 13,
     "metadata": {},
     "output_type": "execute_result"
    }
   ],
   "source": [
    "df_MOupdated = df.query(\"Region == 'Missouri' | Region == 'Mo.'\")\n",
    "df_MOupdated['Region'].value_counts()\n",
    "#looks good for enough data entry for Missouri/MO entries"
   ]
  },
  {
   "cell_type": "markdown",
   "metadata": {
    "azdata_cell_guid": "dedc0bfe-17d0-40b2-914f-2ddb54f9ce0d"
   },
   "source": [
    "## Summarize Your Results\n",
    "\n",
    "Make note of your answers to the following questions.\n",
    "\n",
    "1. Did you find all four types of dirty data in your dataset?\n",
    "Yes, there is so much data in my data set I had to narrow it down to one region, Missouri by removing unecessary data. Also had to clean up outliers/irregular data by removing counts above 350. I also removed the probable count column due to the highest amount of missing data/null values.\n",
    "\n",
    "2. Did the process of cleaning your data give you new insights into your dataset?\n",
    "Yes I reazlied that the probable count did not have the accuracy or enough data compared to the actual count column. I reazlied that most counts stayed below 350. \n",
    "\n",
    "3. Is there anything you would like to make note of when it comes to manipulating the data and making visualizations?\n",
    "\n",
    "I don't think I reazlied how large of a data set this would be. I think it will take more practice to become comfortable with larger data sets of this size."
   ]
  }
 ],
 "metadata": {
  "kernelspec": {
   "display_name": "Python 3 (ipykernel)",
   "language": "python",
   "name": "python3"
  },
  "language_info": {
   "codemirror_mode": {
    "name": "ipython",
    "version": 3
   },
   "file_extension": ".py",
   "mimetype": "text/x-python",
   "name": "python",
   "nbconvert_exporter": "python",
   "pygments_lexer": "ipython3",
   "version": "3.10.9"
  }
 },
 "nbformat": 4,
 "nbformat_minor": 2
}
